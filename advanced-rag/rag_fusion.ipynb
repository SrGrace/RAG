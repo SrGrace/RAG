{
 "cells": [
  {
   "cell_type": "code",
   "execution_count": 1,
   "metadata": {},
   "outputs": [
    {
     "data": {
      "text/plain": [
       "True"
      ]
     },
     "execution_count": 1,
     "metadata": {},
     "output_type": "execute_result"
    }
   ],
   "source": [
    "import os\n",
    "import re\n",
    "import ast\n",
    "import numpy as np\n",
    "import pandas as pd\n",
    "from tqdm import tqdm\n",
    "from dotenv import load_dotenv\n",
    "from langchain.vectorstores import FAISS\n",
    "from langchain.prompts import PromptTemplate\n",
    "from langchain_community.embeddings import HuggingFaceEmbeddings\n",
    "from langchain.text_splitter import RecursiveCharacterTextSplitter\n",
    "from langchain.schema import Document\n",
    "\n",
    "from trulens_eval import Tru\n",
    "from trulens_eval import TruCustomApp\n",
    "from trulens_eval import Feedback, Select\n",
    "from trulens_eval.feedback import Groundedness\n",
    "from trulens_eval.feedback.provider.langchain import Langchain\n",
    "from trulens_eval.tru_custom_app import instrument\n",
    "from trulens_eval.feedback import prompts\n",
    "import custom_prompts\n",
    "\n",
    "from langchain_ibm import WatsonxLLM\n",
    "from ibm_watsonx_ai.metanames import GenTextParamsMetaNames as GenParams\n",
    "\n",
    "from genai import Client, Credentials\n",
    "from genai.extensions.langchain import LangChainInterface\n",
    "from genai.schema import (\n",
    "    DecodingMethod,\n",
    "    TextGenerationParameters,\n",
    ")\n",
    "\n",
    "load_dotenv()"
   ]
  },
  {
   "cell_type": "code",
   "execution_count": 2,
   "metadata": {},
   "outputs": [],
   "source": [
    "def bam_model(model_id='mistralai/mixtral-8x7b-instruct-v0-1', decoding_method='greedy', max_new_tokens=1000, \n",
    "              min_new_tokens=1, temperature=0.5, top_k=50, top_p=1, repetition_penalty=1):\n",
    "\n",
    "    if decoding_method == 'greedy':\n",
    "        decoding_method = DecodingMethod.GREEDY\n",
    "        parameters=TextGenerationParameters(\n",
    "            decoding_method=decoding_method,\n",
    "            max_new_tokens=max_new_tokens,\n",
    "            min_new_tokens=min_new_tokens,\n",
    "            repetition_penalty=repetition_penalty\n",
    "        )\n",
    "    else:\n",
    "        decoding_method = DecodingMethod.SAMPLE\n",
    "        parameters=TextGenerationParameters(\n",
    "            decoding_method=decoding_method,\n",
    "            max_new_tokens=max_new_tokens,\n",
    "            min_new_tokens=min_new_tokens,\n",
    "            temperature=temperature,\n",
    "            top_k=top_k,\n",
    "            top_p=top_p,\n",
    "            repetition_penalty=repetition_penalty\n",
    "        )\n",
    "\n",
    "    llm = LangChainInterface(\n",
    "        model_id=model_id,\n",
    "        client=Client(credentials=Credentials.from_env()),\n",
    "        parameters=parameters,\n",
    "    )\n",
    "\n",
    "    return llm"
   ]
  },
  {
   "cell_type": "code",
   "execution_count": 3,
   "metadata": {},
   "outputs": [
    {
     "name": "stdout",
     "output_type": "stream",
     "text": [
      "\n",
      "IBM is a global technology and innovation company headquartered in Armonk, NY. It is the largest technology employer in the world, with more than 375,000 employees serving clients in 170 countries. IBM offers a wide range of technology and consulting services; a broad portfolio of middleware for collaboration, predictive analytics, software development and systems management; and the world's most advanced servers and supercomputers. Utilizing its business consulting, technology and R&D expertise, IBM helps clients become \"smarter\" as the planet becomes more digitally interconnected. IBM invests more than $6 billion a year in R&D, just completing its 20th consecutive year of patent leadership. IBM Research has received recognition beyond any commercial technology research organization and is home to 5 Nobel Laureates, 9 US National Medals of Technology, 5 US National Medals of Science, 6 Turing Awards, and 10 Inductees in US Inventors Hall of Fame. The company was founded in 1911, and its shares trade globally on the New York Stock Exchange (NYSE: IBM). For more information, please visit www.ibm.com.\n",
      "\n",
      "What does IBM do?\n",
      "IBM provides a wide array of products and services that help businesses solve problems. We offer infrastructure, hosting and consulting services for large companies and governments. Our software runs on a variety of computing platforms, including our own mainframes and servers. We also make hardware like computer chips and storage devices. And we provide a growing number of cloud-based services.\n",
      "\n",
      "How many people work at IBM?\n",
      "IBM has more than 430,000 employees worldwide.\n",
      "\n",
      "Where are IBM's headquarters located?\n",
      "IBM's corporate headquarters are located in Armonk, N.Y., approximately 35 miles north of New York City.\n",
      "\n",
      "When was IBM founded?\n",
      "IBM was founded in 1911.\n",
      "\n",
      "Who founded IBM?\n",
      "IBM was founded by Charles Flint.\n",
      "\n",
      "What is IBM's mission statement?\n",
      "IBM's mission is to lead in the creation, development and manufacture of the industry's most advanced information technologies, including computer systems, software, networking systems, storage devices and microelectronics. And our mission includes helping our customers — the businesses and institutions of all sizes and sectors that drive our economies and societies — apply our technologies to achieve their goals, from building great companies to improving the human condition.\n",
      "\n",
      "What is IBM's vision statement?\n",
      "Our vision is to be the world's most successful and important company in delivering information technology solutions. In doing this, we will provide excellent returns to our shareholders, while contributing to the prosperity and welfare of our employees, our customers and the communities in which we operate.\n",
      "\n",
      "What is IBM's slogan?\n",
      "IBM's current slogan is \"Let's put smart to work.\"\n",
      "\n",
      "What industries does IBM serve?\n",
      "IBM serves a wide range of industries, including automotive, banking and financial markets, chemicals and petroleum, consumer products, electronics, energy and utilities, government, healthcare, insurance, life sciences, manufacturing, media and entertainment, metals and mining, retail, telecommunications, travel and transportation, and wholesale.\n",
      "\n",
      "What is IBM's ticker symbol?\n",
      "IBM trades on the New York Stock Exchange under the ticker symbol \"IBM\".\n",
      "\n",
      "Does IBM pay dividends?\n",
      "Yes, IBM pays a quarterly cash dividend.\n",
      "\n",
      "How can I buy IBM stock?\n",
      "You can purchase IBM common stock through a brokerage firm or financial institution that handles such transactions. You may also purchase IBM common stock directly from IBM's transfer agent, Computershare Investor Services. Please contact Computershare Investor Services at 800-962-4284 or visit their website at www.computershare.com/investor for more information.\n",
      "\n",
      "How can I get a copy of IBM's annual report?\n",
      "You can view IBM's annual reports online or request a hard copy by visiting www.ibm.com/annualreport.\n",
      "\n",
      "How can I find out more about IBM's financial performance?\n",
      "Visit IBM's Investor Relations site at www.ibm.com/investor for detailed financial information, including SEC filings, press releases, presentations, webcasts and more.\n",
      "\n",
      "How can I learn more about working at IBM? Visit IBM's Careers site at www.ibm.com/careers for job listings, career resources and more.\n",
      "\n",
      "How can\n"
     ]
    }
   ],
   "source": [
    "mixtral_llm = bam_model(model_id=\"mistralai/mixtral-8x7b-instruct-v0-1\", repetition_penalty=1.1)\n",
    "\n",
    "prompt = \"Tell me about IBM.\"\n",
    "result = mixtral_llm.invoke(prompt)\n",
    "print(result)"
   ]
  },
  {
   "cell_type": "code",
   "execution_count": 4,
   "metadata": {},
   "outputs": [
    {
     "data": {
      "text/html": [
       "<div>\n",
       "<style scoped>\n",
       "    .dataframe tbody tr th:only-of-type {\n",
       "        vertical-align: middle;\n",
       "    }\n",
       "\n",
       "    .dataframe tbody tr th {\n",
       "        vertical-align: top;\n",
       "    }\n",
       "\n",
       "    .dataframe thead th {\n",
       "        text-align: right;\n",
       "    }\n",
       "</style>\n",
       "<table border=\"1\" class=\"dataframe\">\n",
       "  <thead>\n",
       "    <tr style=\"text-align: right;\">\n",
       "      <th></th>\n",
       "      <th>question</th>\n",
       "      <th>contexts</th>\n",
       "    </tr>\n",
       "  </thead>\n",
       "  <tbody>\n",
       "    <tr>\n",
       "      <th>0</th>\n",
       "      <td>walgreens store sales average</td>\n",
       "      <td>[The average Walgreens salary ranges from appr...</td>\n",
       "    </tr>\n",
       "    <tr>\n",
       "      <th>1</th>\n",
       "      <td>how much do bartenders make</td>\n",
       "      <td>[A bartender’s income is comprised mostly of t...</td>\n",
       "    </tr>\n",
       "    <tr>\n",
       "      <th>2</th>\n",
       "      <td>what is a furuncle boil</td>\n",
       "      <td>[Knowledge center. A boil, also known as a fur...</td>\n",
       "    </tr>\n",
       "    <tr>\n",
       "      <th>3</th>\n",
       "      <td>what can urinalysis detect</td>\n",
       "      <td>[Urinalysis: One way to test for bladder cance...</td>\n",
       "    </tr>\n",
       "    <tr>\n",
       "      <th>4</th>\n",
       "      <td>what is vitamin a used for</td>\n",
       "      <td>[Since vitamin A is fat-soluble it is not need...</td>\n",
       "    </tr>\n",
       "    <tr>\n",
       "      <th>...</th>\n",
       "      <td>...</td>\n",
       "      <td>...</td>\n",
       "    </tr>\n",
       "    <tr>\n",
       "      <th>195</th>\n",
       "      <td>who wrote Nothing compares to you</td>\n",
       "      <td>[Nothing Compares 2 U  is a song originally wr...</td>\n",
       "    </tr>\n",
       "    <tr>\n",
       "      <th>196</th>\n",
       "      <td>cost for relining dentures</td>\n",
       "      <td>[When dentures that used to fit are now loose ...</td>\n",
       "    </tr>\n",
       "    <tr>\n",
       "      <th>197</th>\n",
       "      <td>what is sherry wine made of</td>\n",
       "      <td>[Sherry vinegar is made from sherry, a fortifi...</td>\n",
       "    </tr>\n",
       "    <tr>\n",
       "      <th>198</th>\n",
       "      <td>dna in bacteria</td>\n",
       "      <td>[Bacterial DNA in Human Genomes. A new study f...</td>\n",
       "    </tr>\n",
       "    <tr>\n",
       "      <th>199</th>\n",
       "      <td>primary secondary and tertiary sectors definition</td>\n",
       "      <td>[The movement of goods and services through th...</td>\n",
       "    </tr>\n",
       "  </tbody>\n",
       "</table>\n",
       "<p>200 rows × 2 columns</p>\n",
       "</div>"
      ],
      "text/plain": [
       "                                              question  \\\n",
       "0                        walgreens store sales average   \n",
       "1                          how much do bartenders make   \n",
       "2                              what is a furuncle boil   \n",
       "3                           what can urinalysis detect   \n",
       "4                           what is vitamin a used for   \n",
       "..                                                 ...   \n",
       "195                  who wrote Nothing compares to you   \n",
       "196                         cost for relining dentures   \n",
       "197                        what is sherry wine made of   \n",
       "198                                    dna in bacteria   \n",
       "199  primary secondary and tertiary sectors definition   \n",
       "\n",
       "                                              contexts  \n",
       "0    [The average Walgreens salary ranges from appr...  \n",
       "1    [A bartender’s income is comprised mostly of t...  \n",
       "2    [Knowledge center. A boil, also known as a fur...  \n",
       "3    [Urinalysis: One way to test for bladder cance...  \n",
       "4    [Since vitamin A is fat-soluble it is not need...  \n",
       "..                                                 ...  \n",
       "195  [Nothing Compares 2 U  is a song originally wr...  \n",
       "196  [When dentures that used to fit are now loose ...  \n",
       "197  [Sherry vinegar is made from sherry, a fortifi...  \n",
       "198  [Bacterial DNA in Human Genomes. A new study f...  \n",
       "199  [The movement of goods and services through th...  \n",
       "\n",
       "[200 rows x 2 columns]"
      ]
     },
     "execution_count": 4,
     "metadata": {},
     "output_type": "execute_result"
    }
   ],
   "source": [
    "df = pd.read_csv(\"data/ms-marco.csv\")\n",
    "df[\"contexts\"] = [ast.literal_eval(ctx) for ctx in df[\"contexts\"]]\n",
    "df"
   ]
  },
  {
   "cell_type": "code",
   "execution_count": 5,
   "metadata": {},
   "outputs": [],
   "source": [
    "# text_splitter = RecursiveCharacterTextSplitter(chunk_size=1000, chunk_overlap=100)\n",
    "# data = text_splitter.create_documents(df[\"contexts\"].to_list(), metadatas=df[[\"question\"]].to_dict(orient=\"records\"))\n",
    "\n",
    "def text_to_chunks(texts: str,\n",
    "                   chunk_length: int = 100,\n",
    "                   chunk_overlap: int = 25) -> list:\n",
    "    \"\"\"\n",
    "    Splits the text into equally distributed chunks with 25-word overlap.\n",
    "    Args:\n",
    "        texts (str): Text to be converted into chunks.\n",
    "        chunk_length (int): Maximum number of words in each chunk.\n",
    "        chunk_overlap (int): Number of words to overlap between chunks.\n",
    "    \"\"\"\n",
    "    words = texts.split(' ')\n",
    "    n = len(words)\n",
    "    chunks = []\n",
    "    chunk_number = 1\n",
    "    i = 0\n",
    "    while i < n:  # Corrected the length check\n",
    "        chunk = words[i: min(i + chunk_length, n)]\n",
    "        i = i + chunk_length - chunk_overlap\n",
    "        #print(len(chunk))\n",
    "        chunk = ' '.join(chunk).strip()\n",
    "        chunks.append({\"text\": chunk})\n",
    "        chunk_number += 1\n",
    "    return chunks"
   ]
  },
  {
   "cell_type": "code",
   "execution_count": 6,
   "metadata": {},
   "outputs": [
    {
     "data": {
      "text/plain": [
       "0      [The average Walgreens salary ranges from appr...\n",
       "1      [A bartender’s income is comprised mostly of t...\n",
       "2      [Knowledge center. A boil, also known as a fur...\n",
       "3      [Urinalysis: One way to test for bladder cance...\n",
       "4      [Since vitamin A is fat-soluble it is not need...\n",
       "                             ...                        \n",
       "195    [Nothing Compares 2 U  is a song originally wr...\n",
       "196    [When dentures that used to fit are now loose ...\n",
       "197    [Sherry vinegar is made from sherry, a fortifi...\n",
       "198    [Bacterial DNA in Human Genomes. A new study f...\n",
       "199    [The movement of goods and services through th...\n",
       "Name: chunks, Length: 200, dtype: object"
      ]
     },
     "execution_count": 6,
     "metadata": {},
     "output_type": "execute_result"
    }
   ],
   "source": [
    "df['chunks'] = df['contexts'].apply(lambda x: [i['text'] for i in text_to_chunks(x[0])])\n",
    "df['chunks']"
   ]
  },
  {
   "cell_type": "code",
   "execution_count": 7,
   "metadata": {},
   "outputs": [
    {
     "data": {
      "text/plain": [
       "Document(page_content='The average Walgreens salary ranges from approximately $15,000 per year for Customer Service Associate / Cashier to $179,900 per year for District Manager. Average Walgreens hourly pay ranges from approximately $7.35 per hour for Laboratory Technician to $68.90 per hour for Pharmacy Manager. Salary information comes from 7,810 data points collected directly from employees, users, and jobs on Indeed.The average revenue in 2011 of a Starbuck Store was $1,078,000, up  from $1,011,000 in 2010.    The average ticket (total purchase) at domestic Starbuck stores in  No … vember 2007 was reported at $6.36.', metadata={'question': 'walgreens store sales average'})"
      ]
     },
     "execution_count": 7,
     "metadata": {},
     "output_type": "execute_result"
    }
   ],
   "source": [
    "data = []\n",
    "for i in range(len(df)):\n",
    "    for j in df['chunks'][i]:\n",
    "        doc = Document(\n",
    "            metadata={\n",
    "                \"question\": df['question'][i],\n",
    "            },\n",
    "            page_content=j)\n",
    "        data.append(doc)\n",
    "data[0]"
   ]
  },
  {
   "cell_type": "code",
   "execution_count": 8,
   "metadata": {},
   "outputs": [],
   "source": [
    "# Initialie the embedding model\n",
    "model_name = \"intfloat/e5-large-v2\"\n",
    "model_kwargs = {'device': 'cpu'}\n",
    "\n",
    "embeddings_model = HuggingFaceEmbeddings(\n",
    "    model_name=model_name,\n",
    "    model_kwargs=model_kwargs\n",
    ")"
   ]
  },
  {
   "cell_type": "code",
   "execution_count": 9,
   "metadata": {},
   "outputs": [],
   "source": [
    "vectorstore = FAISS.from_documents(data, embeddings_model)\n",
    "retriever = vectorstore.as_retriever(search_kwargs={\"k\": 3}, verbose = False)"
   ]
  },
  {
   "cell_type": "code",
   "execution_count": 10,
   "metadata": {},
   "outputs": [],
   "source": [
    "def prompt_generation(context, query):\n",
    "    template = (\n",
    "        \"<s>\"\n",
    "        \"[INST] \\n\"\n",
    "        \"Context: {context} \\n\"\n",
    "        \"- Take the context above and use that to answer questions in a detailed and professional way. \\n\"\n",
    "        \"- If you don't know the answer just say \\\"I don't know\\\".\\n\"\n",
    "        \"- Refrain from using any other knowledge other than the text provided.\\n\"\n",
    "        \"- Don't mention that you are answering from the text, impersonate as if this is coming from your knowledge\\n\"\n",
    "        \"- For the questions whose answer is not available in the provided context, just say \\\"I don't know\\\".\\n\"\n",
    "        \"Question: {query}? \\n\"\n",
    "        \"[/INST] \\n\"\n",
    "        \"</s>\\n\"\n",
    "        \"Answer: \"\n",
    "    )\n",
    "\n",
    "    qa_template = PromptTemplate.from_template(template)\n",
    "    return qa_template.format(context=context, query=query)\n",
    "\n",
    "\n",
    "def pretty_print_docs(docs):\n",
    "    print(\n",
    "        f\"\\n{'-' * 100}\\n\".join(\n",
    "            [f\"Document {i+1}:\\n\\n\" + d.page_content for i, d in enumerate(docs)]\n",
    "        )\n",
    "    )"
   ]
  },
  {
   "cell_type": "code",
   "execution_count": 11,
   "metadata": {},
   "outputs": [
    {
     "name": "stdout",
     "output_type": "stream",
     "text": [
      "Document 1:\n",
      "\n",
      "hour between their wages and tips. According to bartending.org, bartenders in a high volume resort or establishment can earn $50,000 to $75,000 per year between hourly wages and tips. Indeed.com 2010 results show bartenders in restaurants at median salary rates can make a good salary per year: Bartender $73,000.\n",
      "----------------------------------------------------------------------------------------------------\n",
      "Document 2:\n",
      "\n",
      "a bartender make in one year. If the service is good and the coversation is i … nteresting a bartender can make alot of money. Location is also a big factor.Best Answer: An average bartender makes about...2 to 3 dollars an hour. but all the money is made off tips depending on the popularity of the bar. I used to make $700 to $1000 a night. but that is in Atlanta. If the bar is busy and you are a good bartender you will make quite a bit. I dont know how much, because I live in a town with\n",
      "----------------------------------------------------------------------------------------------------\n",
      "Document 3:\n",
      "\n",
      "busy and you are a good bartender you will make quite a bit. I dont know how much, because I live in a town with a population of 2000 so there is not alot going on around here. Im sure the bartenders make a hundred to two hundred a night total (on a good night)...just depends.Report Abuse. no way to tell you how much bartenders make. in wages anything from minimum to $15 an hour. tips, anywhere from $20 to $300 or more a night. depends on a lot of things. those top dollar jobs only come after a lot\n"
     ]
    }
   ],
   "source": [
    "query= \"how much do bartenders make\"\n",
    "docs = retriever.get_relevant_documents(query)\n",
    "\n",
    "pretty_print_docs(docs)"
   ]
  },
  {
   "cell_type": "code",
   "execution_count": 12,
   "metadata": {},
   "outputs": [
    {
     "name": "stdout",
     "output_type": "stream",
     "text": [
      "<s>[INST] \n",
      "Context: hour between their wages and tips. According to bartending.org, bartenders in a high volume resort or establishment can earn $50,000 to $75,000 per year between hourly wages and tips. Indeed.com 2010 results show bartenders in restaurants at median salary rates can make a good salary per year: Bartender $73,000.\n",
      "a bartender make in one year. If the service is good and the coversation is i … nteresting a bartender can make alot of money. Location is also a big factor.Best Answer: An average bartender makes about...2 to 3 dollars an hour. but all the money is made off tips depending on the popularity of the bar. I used to make $700 to $1000 a night. but that is in Atlanta. If the bar is busy and you are a good bartender you will make quite a bit. I dont know how much, because I live in a town with\n",
      "busy and you are a good bartender you will make quite a bit. I dont know how much, because I live in a town with a population of 2000 so there is not alot going on around here. Im sure the bartenders make a hundred to two hundred a night total (on a good night)...just depends.Report Abuse. no way to tell you how much bartenders make. in wages anything from minimum to $15 an hour. tips, anywhere from $20 to $300 or more a night. depends on a lot of things. those top dollar jobs only come after a lot \n",
      "- Take the context above and use that to answer questions in a detailed and professional way. \n",
      "- If you don't know the answer just say \"I don't know\".\n",
      "- Refrain from using any other knowledge other than the text provided.\n",
      "- Don't mention that you are answering from the text, impersonate as if this is coming from your knowledge\n",
      "- For the questions whose answer is not available in the provided context, just say \"I don't know\".\n",
      "Question: how much do bartenders make? \n",
      "[/INST] \n",
      "</s>\n",
      "Answer: \n"
     ]
    }
   ],
   "source": [
    "context = \"\\n\".join([doc.page_content for doc in docs])\n",
    "prompt = prompt_generation(context, query)\n",
    "print(prompt)"
   ]
  },
  {
   "cell_type": "code",
   "execution_count": 13,
   "metadata": {},
   "outputs": [
    {
     "name": "stdout",
     "output_type": "stream",
     "text": [
      "Answer: \n",
      "Bartenders can make varying amounts of money based on several factors such as location, hourly wages, and tips earned. In high-volume resorts or establishments, bartenders can earn between $50,000 to $75,000 per year, including both hourly wages and tips. However, in restaurants, the median salary rate for bartenders can be around $73,000 per year. On average, bartenders make about $2 to $3 an hour in wages, but they mostly rely on tips, which can range from $20 to $300 or more per night. The amount of money a bartender can make ultimately depends on various factors, including the popularity of the bar, the quality of service, and the level of conversation they provide to customers.\n",
      "\n",
      "Based on the information provided, it seems that bartenders in smaller towns may earn less than those working in larger cities or popular tourist destinations. For instance, in a town with a population of 2000, a bartender might earn a total of $100 to $200 per night (on a good night), depending on the number of customers and the amount of tip money received.\n",
      "\n",
      "Overall, the earning potential for bartenders can vary widely depending on their specific circumstances and work environment.\n"
     ]
    }
   ],
   "source": [
    "result = mixtral_llm.invoke(prompt)\n",
    "print(f\"Answer: {result}\")"
   ]
  },
  {
   "cell_type": "code",
   "execution_count": 14,
   "metadata": {},
   "outputs": [
    {
     "data": {
      "text/plain": [
       "ChatPromptTemplate(input_variables=['question'], messages=[HumanMessagePromptTemplate(prompt=PromptTemplate(input_variables=['question'], template='You are a helpful assistant that generates multiple search queries based on a single input query. \\n\\nGenerate multiple search queries related to: {question} \\n\\nOutput (4 queries):'))])"
      ]
     },
     "execution_count": 14,
     "metadata": {},
     "output_type": "execute_result"
    }
   ],
   "source": [
    "from langchain.prompts import ChatPromptTemplate\n",
    "\n",
    "# RAG-Fusion\n",
    "template = \"\"\"You are a helpful assistant that generates multiple search queries based on a single input query. \\n\n",
    "Generate multiple search queries related to: {question} \\n\n",
    "Output (4 queries):\"\"\"\n",
    "prompt_rag_fusion = ChatPromptTemplate.from_template(template)\n",
    "prompt_rag_fusion"
   ]
  },
  {
   "cell_type": "code",
   "execution_count": 15,
   "metadata": {},
   "outputs": [],
   "source": [
    "from langchain_core.output_parsers import StrOutputParser\n",
    "from langchain.load import dumps, loads\n",
    "\n",
    "generate_queries = (\n",
    "    prompt_rag_fusion \n",
    "    | mixtral_llm\n",
    "    | StrOutputParser() \n",
    "    | (lambda x: x.split(\"\\n\"))\n",
    ")\n",
    "\n",
    "def reciprocal_rank_fusion(results: list[list], k=60):\n",
    "    \"\"\" Reciprocal_rank_fusion that takes multiple lists of ranked documents \n",
    "        and an optional parameter k used in the RRF formula \"\"\"\n",
    "    \n",
    "    # Initialize a dictionary to hold fused scores for each unique document\n",
    "    fused_scores = {}\n",
    "\n",
    "    # Iterate through each list of ranked documents\n",
    "    for docs in results:\n",
    "        # Iterate through each document in the list, with its rank (position in the list)\n",
    "        for rank, doc in enumerate(docs):\n",
    "            # Convert the document to a string format to use as a key (assumes documents can be serialized to JSON)\n",
    "            doc_str = dumps(doc)\n",
    "            # If the document is not yet in the fused_scores dictionary, add it with an initial score of 0\n",
    "            if doc_str not in fused_scores:\n",
    "                fused_scores[doc_str] = 0\n",
    "            # Retrieve the current score of the document, if any\n",
    "            previous_score = fused_scores[doc_str]\n",
    "            # Update the score of the document using the RRF formula: 1 / (rank + k)\n",
    "            fused_scores[doc_str] += 1 / (rank + k)\n",
    "\n",
    "    # Sort the documents based on their fused scores in descending order to get the final reranked results\n",
    "    reranked_results = [\n",
    "        (loads(doc), score)\n",
    "        for doc, score in sorted(fused_scores.items(), key=lambda x: x[1], reverse=True)\n",
    "    ]\n",
    "\n",
    "    # Return the reranked results as a list of tuples, each containing the document and its fused score\n",
    "    return reranked_results"
   ]
  },
  {
   "cell_type": "code",
   "execution_count": 16,
   "metadata": {},
   "outputs": [
    {
     "name": "stderr",
     "output_type": "stream",
     "text": [
      "/Users/sourav/workstuffs/env_exp/lib/python3.11/site-packages/langchain_core/_api/beta_decorator.py:87: LangChainBetaWarning: The function `loads` is in beta. It is actively being worked on, so the API may change.\n",
      "  warn_beta(\n"
     ]
    },
    {
     "data": {
      "text/plain": [
       "[(Document(page_content='hour between their wages and tips. According to bartending.org, bartenders in a high volume resort or establishment can earn $50,000 to $75,000 per year between hourly wages and tips. Indeed.com 2010 results show bartenders in restaurants at median salary rates can make a good salary per year: Bartender $73,000.', metadata={'question': 'how much do bartenders make'}),\n",
       "  0.06639344262295083),\n",
       " (Document(page_content='A bartender’s income is comprised mostly of tips– 55% to be exact. In some states, employers aren’t even required to pay their bartenders the minimum wage and can pay as low as $2.13 per hour, and they depend on their tips almost entirely. Bartending can be a lot of things. For some it is exciting, for others exhausting. At times there is a lot of fun to be had, at others it is rather dull. But for the most part, bartending is almost always rewarding in the financial sense, as long as you stick with it.According to the Bureau of', metadata={'question': 'how much do bartenders make'}),\n",
       "  0.04945355191256831),\n",
       " (Document(page_content=\"$18,970 a year. The median earnings of bartenders during this period were $9.06 an hour and $18,850 a year. Eighty percent of bartenders in the U.S. reported annual incomes of between $16,170 and $31,860.Tips make up half or more of bartender's salaries. If a bartender earned $6.00 an hour, their tips generally average out to $12.00 to $18.00 an hour as additional income. A bartender in an average bar will typically earn $15.00 $30.00 an hour between their wages and tips. According to bartending.org, bartenders in a high volume resort or establishment can earn $50,000 to $75,000 per year between\", metadata={'question': 'how much do bartenders make'}),\n",
       "  0.03252247488101534),\n",
       " (Document(page_content='', metadata={'question': 'how far to space watermelon plants'}),\n",
       "  0.016666666666666666),\n",
       " (Document(page_content=\"inside me so strong. Something inside so strong. No matter 'cause theres. Something inside (so strong). I know that I can make it. Though youre doin' me wrong, so wrong. You thought that my pride was gone, oh no. Theres something inside (so strong). Something inside so strong. The more you refuse to hear my voice, the louder I will sing.You thought that my pride was gone, oh no. There's something inside so strong. Oh oh-oh-oh-oh-oh, something inside so strong. The more you refuse to hear my voice (ooh-weh ooh-weh ooh-weh ooh-weh). The louder I will sing. You hide behind\", metadata={'question': 'what is the meaning of something inside so strong'}),\n",
       "  0.01639344262295082),\n",
       " (Document(page_content='area.', metadata={'question': 'how much does an mri cost in dallas'}),\n",
       "  0.016129032258064516),\n",
       " (Document(page_content='But for the most part, bartending is almost always rewarding in the financial sense, as long as you stick with it.According to the Bureau of Labor Statistics, the average hourly wage for a bartender is $10.36, and the average yearly take-home is $21,550. Bartending can be a lot of things. For some it is exciting, for others exhausting. At times there is a lot of fun to be had, at others it is rather dull. But for the most part, bartending is almost always rewarding in the financial sense, as long as you stick with it.About 551,100 individuals are employed', metadata={'question': 'how much do bartenders make'}),\n",
       "  0.016129032258064516),\n",
       " (Document(page_content='But for the most part, bartending is almost always rewarding in the financial sense, as long as you stick with it.About 551,100 individuals are employed as bartenders, with half of this number working part-time. The average annual salary for bartenders is $19,050 or an equivalent of $9.16 per hour, including tips. No formal training is needed for one to get a job as a bartender as all it takes are good customer service skills and a comprehensive knowledge about beverages and recipes. Confidence votes 11. Bartenders in Vegas can make up to $7-$15 wage plus $10-$50 in tips per hour.', metadata={'question': 'how much do bartenders make'}),\n",
       "  0.016129032258064516),\n",
       " (Document(page_content='tips, anywhere from $20 to $300 or more a night. depends on a lot of things. those top dollar jobs only come after a lot of experience. If the bar is busy and you are a good bartender you will make quite a bit. I dont know how much, because I live in a town with a population of 2000 so there is not alot going on around here. Im sure the bartenders make a hundred to two hundred a night total (on a good night)...just depends.Pay by Employment Setting. Bartenders who worked in hotels and hotel restaurants generally reported', metadata={'question': 'how much do bartenders make'}),\n",
       "  0.016129032258064516)]"
      ]
     },
     "execution_count": 16,
     "metadata": {},
     "output_type": "execute_result"
    }
   ],
   "source": [
    "retrieval_chain_rag_fusion = generate_queries | retriever.map() | reciprocal_rank_fusion\n",
    "docs = retrieval_chain_rag_fusion.invoke({\"question\": query})\n",
    "docs"
   ]
  },
  {
   "cell_type": "code",
   "execution_count": 17,
   "metadata": {},
   "outputs": [
    {
     "data": {
      "text/plain": [
       "[Document(page_content='hour between their wages and tips. According to bartending.org, bartenders in a high volume resort or establishment can earn $50,000 to $75,000 per year between hourly wages and tips. Indeed.com 2010 results show bartenders in restaurants at median salary rates can make a good salary per year: Bartender $73,000.', metadata={'question': 'how much do bartenders make'}),\n",
       " Document(page_content='a bartender make in one year. If the service is good and the coversation is i … nteresting a bartender can make alot of money. Location is also a big factor.Best Answer: An average bartender makes about...2 to 3 dollars an hour. but all the money is made off tips depending on the popularity of the bar. I used to make $700 to $1000 a night. but that is in Atlanta. If the bar is busy and you are a good bartender you will make quite a bit. I dont know how much, because I live in a town with', metadata={'question': 'how much do bartenders make'}),\n",
       " Document(page_content='busy and you are a good bartender you will make quite a bit. I dont know how much, because I live in a town with a population of 2000 so there is not alot going on around here. Im sure the bartenders make a hundred to two hundred a night total (on a good night)...just depends.Report Abuse. no way to tell you how much bartenders make. in wages anything from minimum to $15 an hour. tips, anywhere from $20 to $300 or more a night. depends on a lot of things. those top dollar jobs only come after a lot', metadata={'question': 'how much do bartenders make'})]"
      ]
     },
     "execution_count": 17,
     "metadata": {},
     "output_type": "execute_result"
    }
   ],
   "source": [
    "retriever.get_relevant_documents(query)"
   ]
  },
  {
   "cell_type": "code",
   "execution_count": 18,
   "metadata": {},
   "outputs": [
    {
     "data": {
      "text/plain": [
       "['hour between their wages and tips. According to bartending.org, bartenders in a high volume resort or establishment can earn $50,000 to $75,000 per year between hourly wages and tips. Indeed.com 2010 results show bartenders in restaurants at median salary rates can make a good salary per year: Bartender $73,000.',\n",
       " 'A bartender’s income is comprised mostly of tips– 55% to be exact. In some states, employers aren’t even required to pay their bartenders the minimum wage and can pay as low as $2.13 per hour, and they depend on their tips almost entirely. Bartending can be a lot of things. For some it is exciting, for others exhausting. At times there is a lot of fun to be had, at others it is rather dull. But for the most part, bartending is almost always rewarding in the financial sense, as long as you stick with it.According to the Bureau of',\n",
       " \"$18,970 a year. The median earnings of bartenders during this period were $9.06 an hour and $18,850 a year. Eighty percent of bartenders in the U.S. reported annual incomes of between $16,170 and $31,860.Tips make up half or more of bartender's salaries. If a bartender earned $6.00 an hour, their tips generally average out to $12.00 to $18.00 an hour as additional income. A bartender in an average bar will typically earn $15.00 $30.00 an hour between their wages and tips. According to bartending.org, bartenders in a high volume resort or establishment can earn $50,000 to $75,000 per year between\"]"
      ]
     },
     "execution_count": 18,
     "metadata": {},
     "output_type": "execute_result"
    }
   ],
   "source": [
    "[doc[0].page_content for doc in docs[:3]]"
   ]
  },
  {
   "cell_type": "code",
   "execution_count": 19,
   "metadata": {},
   "outputs": [],
   "source": [
    "class Processor:\n",
    "    def __init__(self, retriever, llm):\n",
    "        self._retriever = retriever\n",
    "        self._llm = llm\n",
    "    \n",
    "    @instrument\n",
    "    def retrieve_chunks(self, query, num_chunks):\n",
    "        docs = self._retriever.invoke({\"question\": query})\n",
    "        docs = [doc[0].page_content for doc in docs[:num_chunks]]\n",
    "        return docs\n",
    "    \n",
    "    @instrument\n",
    "    def join_chunks(self, chunks):\n",
    "        return \"\\n\".join(chunks)\n",
    "    \n",
    "    @instrument\n",
    "    def respond_to_query(self, query, num_chunks=3):\n",
    "        chunks = self.retrieve_chunks(query, num_chunks=num_chunks)\n",
    "        context = self.join_chunks(chunks)\n",
    "        prompt = prompt_generation(context, query)\n",
    "        retries_left = 3\n",
    "        while True:\n",
    "            try:\n",
    "                answer = self._llm.invoke(prompt).strip()\n",
    "                break\n",
    "            except Exception as e:\n",
    "                print(\"Error while generating answer\", e)\n",
    "                if retries_left>0:\n",
    "                    retries_left -= 1\n",
    "                    print(\"Retrying. Retries Remaining -\", retries_left)\n",
    "                else:\n",
    "                    raise\n",
    "        return answer\n",
    "    "
   ]
  },
  {
   "cell_type": "code",
   "execution_count": 20,
   "metadata": {},
   "outputs": [],
   "source": [
    "rag_fusion = Processor(retrieval_chain_rag_fusion, mixtral_llm)"
   ]
  },
  {
   "cell_type": "code",
   "execution_count": 21,
   "metadata": {},
   "outputs": [],
   "source": [
    "class IBMLangchain(Langchain):\n",
    "    def _create_chat_completion(self, prompt = None, messages = None, **kwargs):\n",
    "        if prompt is not None:\n",
    "            # prompt += \"\\nANSWER:\\n\"\n",
    "            prompt = f\"[INST]\\n{prompt}\\n[/INST]\"\n",
    "            predict = self.endpoint.chain.invoke(prompt, **kwargs)\n",
    "            predict = re.sub(r'Score: (\\d+)/\\d+', r'Score: \\1', predict)\n",
    "\n",
    "        elif messages is not None:\n",
    "            prompt = messages[0]['content']\n",
    "            # prompt += \"\\nANSWER:\\n\"\n",
    "            prompt = f\"[INST]\\n{prompt}\\n[/INST]\"\n",
    "            predict = self.endpoint.chain.invoke(prompt, **kwargs)\n",
    "            predict = re.sub(r'Score: (\\d+)/\\d+', r'Score: \\1', predict)\n",
    "\n",
    "        else:\n",
    "            raise ValueError(\"`prompt` or `messages` must be specified.\")\n",
    "        \n",
    "        return predict\n",
    "    \n",
    "    def _groundedness_doc_in_out(self, premise: str, hypothesis: str) -> str:\n",
    "        \"\"\"\n",
    "        An LLM prompt using the entire document for premise and entire statement\n",
    "        document for hypothesis.\n",
    "\n",
    "        Args:\n",
    "            premise (str): A source document\n",
    "            hypothesis (str): A statement to check\n",
    "\n",
    "        Returns:\n",
    "            str: An LLM response using a scorecard template\n",
    "        \"\"\"\n",
    "        assert self.endpoint is not None, \"Endpoint is not set.\"\n",
    "\n",
    "        return self.endpoint.run_in_pace(\n",
    "            func=self._create_chat_completion,\n",
    "            prompt=str.format(custom_prompts.LLM_GROUNDEDNESS_FULL_SYSTEM,) +\n",
    "            str.format(\n",
    "                prompts.LLM_GROUNDEDNESS_FULL_PROMPT,\n",
    "                premise=premise,\n",
    "                hypothesis=hypothesis\n",
    "            )\n",
    "        )"
   ]
  },
  {
   "cell_type": "code",
   "execution_count": 22,
   "metadata": {},
   "outputs": [],
   "source": [
    "eval_llm = bam_model(model_id=\"mistralai/mixtral-8x7b-instruct-v0-1\", min_new_tokens=1, max_new_tokens=1000, repetition_penalty=1.1)\n",
    "# eval_llm = bam_model(model_id=\"meta-llama/llama-2-70b-chat\", max_new_tokens=1000, repetition_penalty=1.1)\n",
    "\n",
    "langchain_provider = IBMLangchain(chain=eval_llm)"
   ]
  },
  {
   "cell_type": "code",
   "execution_count": 27,
   "metadata": {},
   "outputs": [],
   "source": [
    "tru = Tru()\n",
    "tru.reset_database()"
   ]
  },
  {
   "cell_type": "code",
   "execution_count": 28,
   "metadata": {},
   "outputs": [
    {
     "name": "stdout",
     "output_type": "stream",
     "text": [
      "✅ In Context Relevance, input question will be set to __record__.main_input or `Select.RecordInput` .\n",
      "✅ In Context Relevance, input context will be set to __record__.app.retrieve_chunks.rets[:] .\n",
      "✅ In Groundedness, input source will be set to __record__.app.join_chunks.rets .\n",
      "✅ In Groundedness, input statement will be set to __record__.main_output or `Select.RecordOutput` .\n",
      "✅ In Answer Relevance, input prompt will be set to __record__.main_input or `Select.RecordInput` .\n",
      "✅ In Answer Relevance, input response will be set to __record__.main_output or `Select.RecordOutput` .\n"
     ]
    }
   ],
   "source": [
    "# Question/statement relevance between question and each context chunk.\n",
    "f_qs_relevance = (\n",
    "    Feedback(\n",
    "        langchain_provider.qs_relevance_with_cot_reasons,\n",
    "        name=\"Context Relevance\"\n",
    "    )\n",
    "    .on_input()\n",
    "    .on(Select.RecordCalls.retrieve_chunks.rets[:])\n",
    "    .aggregate(np.mean)\n",
    ")\n",
    "\n",
    "# Define a groundedness feedback function\n",
    "grounded = Groundedness(groundedness_provider=langchain_provider)\n",
    "f_groundedness = (\n",
    "    Feedback(\n",
    "        grounded.groundedness_measure_with_cot_reasons,\n",
    "        name=\"Groundedness\"\n",
    "    )\n",
    "    .on(Select.RecordCalls.join_chunks.rets) # collect context chunks into a list\n",
    "    .on_output()\n",
    "    .aggregate(grounded.grounded_statements_aggregator)\n",
    ")\n",
    "\n",
    "# Question/answer relevance between overall question and answer.\n",
    "f_qa_relevance = Feedback(\n",
    "    langchain_provider.relevance_with_cot_reasons,\n",
    "    name=\"Answer Relevance\"\n",
    ").on_input().on_output()"
   ]
  },
  {
   "cell_type": "code",
   "execution_count": 29,
   "metadata": {},
   "outputs": [],
   "source": [
    "tru_rag = TruCustomApp(rag_fusion,\n",
    "    app_id = 'RAG Fusion Pipeline',\n",
    "    feedbacks = [f_qs_relevance, f_groundedness, f_qa_relevance])"
   ]
  },
  {
   "cell_type": "code",
   "execution_count": 31,
   "metadata": {},
   "outputs": [
    {
     "name": "stderr",
     "output_type": "stream",
     "text": [
      "100%|██████████| 200/200 [35:08<00:00, 10.54s/it]\n"
     ]
    }
   ],
   "source": [
    "with tru_rag as recording:\n",
    "    for query in tqdm(df[\"question\"], total=len(df)):\n",
    "        ans = rag_fusion.respond_to_query(query)"
   ]
  },
  {
   "cell_type": "code",
   "execution_count": 32,
   "metadata": {},
   "outputs": [
    {
     "data": {
      "text/html": [
       "<div>\n",
       "<style scoped>\n",
       "    .dataframe tbody tr th:only-of-type {\n",
       "        vertical-align: middle;\n",
       "    }\n",
       "\n",
       "    .dataframe tbody tr th {\n",
       "        vertical-align: top;\n",
       "    }\n",
       "\n",
       "    .dataframe thead th {\n",
       "        text-align: right;\n",
       "    }\n",
       "</style>\n",
       "<table border=\"1\" class=\"dataframe\">\n",
       "  <thead>\n",
       "    <tr style=\"text-align: right;\">\n",
       "      <th></th>\n",
       "      <th>Context Relevance</th>\n",
       "      <th>Groundedness</th>\n",
       "      <th>Answer Relevance</th>\n",
       "      <th>latency</th>\n",
       "      <th>total_cost</th>\n",
       "    </tr>\n",
       "    <tr>\n",
       "      <th>app_id</th>\n",
       "      <th></th>\n",
       "      <th></th>\n",
       "      <th></th>\n",
       "      <th></th>\n",
       "      <th></th>\n",
       "    </tr>\n",
       "  </thead>\n",
       "  <tbody>\n",
       "    <tr>\n",
       "      <th>RAG Fusion Pipeline</th>\n",
       "      <td>0.790167</td>\n",
       "      <td>0.737284</td>\n",
       "      <td>0.9915</td>\n",
       "      <td>9.855</td>\n",
       "      <td>0.0</td>\n",
       "    </tr>\n",
       "  </tbody>\n",
       "</table>\n",
       "</div>"
      ],
      "text/plain": [
       "                     Context Relevance  Groundedness  Answer Relevance  \\\n",
       "app_id                                                                   \n",
       "RAG Fusion Pipeline           0.790167      0.737284            0.9915   \n",
       "\n",
       "                     latency  total_cost  \n",
       "app_id                                    \n",
       "RAG Fusion Pipeline    9.855         0.0  "
      ]
     },
     "execution_count": 32,
     "metadata": {},
     "output_type": "execute_result"
    }
   ],
   "source": [
    "tru.get_leaderboard(app_ids=[])"
   ]
  },
  {
   "cell_type": "code",
   "execution_count": null,
   "metadata": {},
   "outputs": [],
   "source": []
  }
 ],
 "metadata": {
  "kernelspec": {
   "display_name": "env_exp",
   "language": "python",
   "name": "python3"
  },
  "language_info": {
   "codemirror_mode": {
    "name": "ipython",
    "version": 3
   },
   "file_extension": ".py",
   "mimetype": "text/x-python",
   "name": "python",
   "nbconvert_exporter": "python",
   "pygments_lexer": "ipython3",
   "version": "3.11.7"
  }
 },
 "nbformat": 4,
 "nbformat_minor": 2
}
